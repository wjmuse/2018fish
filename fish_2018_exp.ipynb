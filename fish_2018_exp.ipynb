{
 "cells": [
  {
   "cell_type": "code",
   "execution_count": 114,
   "metadata": {},
   "outputs": [],
   "source": [
    "import csv, os, sys, json, datetime, collections\n",
    "import numpy as np\n",
    "import pandas as pd"
   ]
  },
  {
   "cell_type": "code",
   "execution_count": 4,
   "metadata": {},
   "outputs": [],
   "source": [
    "sys.path.append('../vessel-scoring/vessel_scoring/')\n",
    "sys.path.append('../vessel-scoring/')"
   ]
  },
  {
   "cell_type": "code",
   "execution_count": 18,
   "metadata": {},
   "outputs": [],
   "source": [
    "import vessel_scoring.models\n",
    "from vessel_scoring.models import train_model_on_data, load_data\n",
    "from vessel_scoring import data, utils\n",
    "import vessel_scoring.colspec\n",
    "import vessel_scoring"
   ]
  },
  {
   "cell_type": "code",
   "execution_count": 6,
   "metadata": {},
   "outputs": [],
   "source": [
    "import vessel_scoring.models\n",
    "models = vessel_scoring.models.load_models()\n",
    "#is_fishing = models['Logistic'].predict_proba(track_points)[:,1]"
   ]
  },
  {
   "cell_type": "code",
   "execution_count": 7,
   "metadata": {},
   "outputs": [
    {
     "data": {
      "text/plain": [
       "['Logistic opt MSE',\n",
       " 'Logistic',\n",
       " 'Legacy (12 Hour)',\n",
       " 'Logistic--Longliner',\n",
       " 'Logistic--Purse seine',\n",
       " 'Legacy',\n",
       " 'Logistic--Trawler']"
      ]
     },
     "execution_count": 7,
     "metadata": {},
     "output_type": "execute_result"
    }
   ],
   "source": [
    "models.keys()"
   ]
  },
  {
   "cell_type": "markdown",
   "metadata": {},
   "source": [
    "## Transform track data to display"
   ]
  },
  {
   "cell_type": "code",
   "execution_count": 175,
   "metadata": {},
   "outputs": [
    {
     "name": "stdout",
     "output_type": "stream",
     "text": [
      "(  8.48258570e+13,   1.32539264e+09,  0.,  6708.0390625,  0.,  5.30000019, -34.64751434, -58.34066772)\n",
      "(  8.48258570e+13,   1.32539266e+09,  0.,  6708.0390625,  0.,  335., -34.64751053, -58.3406601)\n",
      "(  8.48258570e+13,   1.32539838e+09,  0.,  6708.0390625,  0.,  47.79999924, -34.64749146, -58.34064102)\n",
      "(  8.48258570e+13,   1.32540381e+09,  0.,  6708.0390625,  0.,  243., -34.64751816, -58.34064102)\n",
      "(  8.48258570e+13,   1.32540382e+09,  0.,  6708.0390625,  0.,  244.8999939, -34.64752197, -58.3406601)\n",
      "(  8.48258570e+13,   1.32540399e+09,  0.,  6708.0390625,  0.,  241.80000305, -34.64751434, -58.34062576)\n",
      "(  8.48258570e+13,   1.32540427e+09,  0.,  6708.0390625,  0.,  246., -34.64752579, -58.34064484)\n",
      "(  8.48258570e+13,   1.32540432e+09,  0.,  6708.0390625,  0.,  231.8999939, -34.6475029, -58.34066772)\n",
      "(  8.48258570e+13,   1.32541021e+09,  0.,  6708.0390625,  0.,  185.3999939, -34.64749527, -58.34066772)\n"
     ]
    },
    {
     "data": {
      "text/plain": [
       "[{'latitude': -34.647514343300003,\n",
       "  'longitude': -58.340667724600003,\n",
       "  'tag': 'iuu_84825856',\n",
       "  'timestamp': 1325392644,\n",
       "  'type': 'vessel',\n",
       "  'uuid': '84825856950400'},\n",
       " {'latitude': -34.647510528600002,\n",
       "  'longitude': -58.340660095200001,\n",
       "  'tag': 'iuu_84825856',\n",
       "  'timestamp': 1325392665,\n",
       "  'type': 'vessel',\n",
       "  'uuid': '84825856950400'},\n",
       " {'latitude': -34.647491455100003,\n",
       "  'longitude': -58.340641021700002,\n",
       "  'tag': 'iuu_84825856',\n",
       "  'timestamp': 1325398384,\n",
       "  'type': 'vessel',\n",
       "  'uuid': '84825856950400'},\n",
       " {'latitude': -34.647518157999997,\n",
       "  'longitude': -58.340641021700002,\n",
       "  'tag': 'iuu_84825856',\n",
       "  'timestamp': 1325403813,\n",
       "  'type': 'vessel',\n",
       "  'uuid': '84825856950400'},\n",
       " {'latitude': -34.647521972699998,\n",
       "  'longitude': -58.340660095200001,\n",
       "  'tag': 'iuu_84825856',\n",
       "  'timestamp': 1325403825,\n",
       "  'type': 'vessel',\n",
       "  'uuid': '84825856950400'},\n",
       " {'latitude': -34.647514343300003,\n",
       "  'longitude': -58.340625762899997,\n",
       "  'tag': 'iuu_84825856',\n",
       "  'timestamp': 1325403993,\n",
       "  'type': 'vessel',\n",
       "  'uuid': '84825856950400'},\n",
       " {'latitude': -34.647525787399999,\n",
       "  'longitude': -58.340644836400003,\n",
       "  'tag': 'iuu_84825856',\n",
       "  'timestamp': 1325404273,\n",
       "  'type': 'vessel',\n",
       "  'uuid': '84825856950400'},\n",
       " {'latitude': -34.647502899199999,\n",
       "  'longitude': -58.340667724600003,\n",
       "  'tag': 'iuu_84825856',\n",
       "  'timestamp': 1325404324,\n",
       "  'type': 'vessel',\n",
       "  'uuid': '84825856950400'},\n",
       " {'latitude': -34.647495269799997,\n",
       "  'longitude': -58.340667724600003,\n",
       "  'tag': 'iuu_84825856',\n",
       "  'timestamp': 1325410214,\n",
       "  'type': 'vessel',\n",
       "  'uuid': '84825856950400'}]"
      ]
     },
     "execution_count": 175,
     "metadata": {},
     "output_type": "execute_result"
    }
   ],
   "source": [
    "def track_format(track_data):\n",
    "    result = []\n",
    "    past_timestamp = 0\n",
    "    for record in track_data:\n",
    "        mmsi = str(int(record[0]))\n",
    "        _type = \"vessel\"\n",
    "        timestamp = int(record[1])\n",
    "        if past_timestamp == timestamp:\n",
    "            continue\n",
    "            \n",
    "        distance_from_shore = record[2]\n",
    "        distance_from_port = record[3]\n",
    "        speed = record[4]\n",
    "        course = record[5]\n",
    "        past_timestamp \n",
    "        latitude = record[6]\n",
    "        longitude = record[7]\n",
    "        tag = \"iuu_\" + str(mmsi)[0:8]\n",
    "        this_json = {\"uuid\": mmsi,\n",
    "                    \"type\": _type,\n",
    "                    \"latitude\": latitude,\n",
    "                    \"longitude\": longitude,\n",
    "                    \"timestamp\": timestamp,\n",
    "                    \"tag\": tag}\n",
    "        past_timestamp = timestamp\n",
    "        result.append(this_json)\n",
    "        \n",
    "    return result\n",
    "    \n",
    "track_format(this_track['x'][1:10])"
   ]
  },
  {
   "cell_type": "code",
   "execution_count": 133,
   "metadata": {},
   "outputs": [],
   "source": [
    "def unix_time(timestamp):\n",
    "    value = datetime.datetime.fromtimestamp(timestamp)\n",
    "    return value.strftime('%Y-%m-%d %H:%M:%S')"
   ]
  },
  {
   "cell_type": "code",
   "execution_count": 172,
   "metadata": {},
   "outputs": [
    {
     "name": "stdout",
     "output_type": "stream",
     "text": [
      "2013-05-30 07:35:49 2016-09-01 19:00:36 15199\n",
      "2012-01-05 19:47:58 2016-08-26 01:19:40 107254\n",
      "2012-01-01 08:26:39 2016-11-25 07:59:52 37742\n",
      "2012-01-01 08:12:00 2015-04-14 05:56:08 83696\n",
      "2012-03-04 15:53:42 2016-11-22 05:09:57 34185\n"
     ]
    },
    {
     "ename": "KeyboardInterrupt",
     "evalue": "",
     "output_type": "error",
     "traceback": [
      "\u001b[0;31m\u001b[0m",
      "\u001b[0;31mKeyboardInterrupt\u001b[0mTraceback (most recent call last)",
      "\u001b[0;32m<ipython-input-172-c55b89fe20ba>\u001b[0m in \u001b[0;36m<module>\u001b[0;34m()\u001b[0m\n\u001b[1;32m      2\u001b[0m     \u001b[0;32mif\u001b[0m \u001b[0mfile\u001b[0m\u001b[0;34m.\u001b[0m\u001b[0mendswith\u001b[0m\u001b[0;34m(\u001b[0m\u001b[0;34m\".npz\"\u001b[0m\u001b[0;34m)\u001b[0m\u001b[0;34m:\u001b[0m\u001b[0;34m\u001b[0m\u001b[0m\n\u001b[1;32m      3\u001b[0m         \u001b[0mthis_track\u001b[0m \u001b[0;34m=\u001b[0m \u001b[0mnp\u001b[0m\u001b[0;34m.\u001b[0m\u001b[0mload\u001b[0m\u001b[0;34m(\u001b[0m\u001b[0mos\u001b[0m\u001b[0;34m.\u001b[0m\u001b[0mpath\u001b[0m\u001b[0;34m.\u001b[0m\u001b[0mjoin\u001b[0m\u001b[0;34m(\u001b[0m\u001b[0;34m\"/home/data/wayne_data/training-data/data/tracks\"\u001b[0m\u001b[0;34m,\u001b[0m \u001b[0mfile\u001b[0m\u001b[0;34m)\u001b[0m\u001b[0;34m)\u001b[0m\u001b[0;34m\u001b[0m\u001b[0m\n\u001b[0;32m----> 4\u001b[0;31m         \u001b[0mresult\u001b[0m \u001b[0;34m=\u001b[0m \u001b[0mtrack_format\u001b[0m\u001b[0;34m(\u001b[0m\u001b[0mthis_track\u001b[0m\u001b[0;34m[\u001b[0m\u001b[0;34m'x'\u001b[0m\u001b[0;34m]\u001b[0m\u001b[0;34m)\u001b[0m\u001b[0;34m\u001b[0m\u001b[0m\n\u001b[0m\u001b[1;32m      5\u001b[0m         \u001b[0mstart_time\u001b[0m \u001b[0;34m=\u001b[0m \u001b[0;36m99999999999\u001b[0m\u001b[0;34m\u001b[0m\u001b[0m\n\u001b[1;32m      6\u001b[0m         \u001b[0mend_time\u001b[0m \u001b[0;34m=\u001b[0m \u001b[0;36m0\u001b[0m\u001b[0;34m\u001b[0m\u001b[0m\n",
      "\u001b[0;32m<ipython-input-127-14af61070ed1>\u001b[0m in \u001b[0;36mtrack_format\u001b[0;34m(track_data)\u001b[0m\n\u001b[1;32m      4\u001b[0m     \u001b[0mpast_timestamp\u001b[0m \u001b[0;34m=\u001b[0m \u001b[0;36m0\u001b[0m\u001b[0;34m\u001b[0m\u001b[0m\n\u001b[1;32m      5\u001b[0m     \u001b[0;32mfor\u001b[0m \u001b[0mrecord\u001b[0m \u001b[0;32min\u001b[0m \u001b[0mtrack_data\u001b[0m\u001b[0;34m:\u001b[0m\u001b[0;34m\u001b[0m\u001b[0m\n\u001b[0;32m----> 6\u001b[0;31m         \u001b[0mmmsi\u001b[0m \u001b[0;34m=\u001b[0m \u001b[0mstr\u001b[0m\u001b[0;34m(\u001b[0m\u001b[0mint\u001b[0m\u001b[0;34m(\u001b[0m\u001b[0mrecord\u001b[0m\u001b[0;34m[\u001b[0m\u001b[0;36m0\u001b[0m\u001b[0;34m]\u001b[0m\u001b[0;34m)\u001b[0m\u001b[0;34m)\u001b[0m\u001b[0;34m\u001b[0m\u001b[0m\n\u001b[0m\u001b[1;32m      7\u001b[0m         \u001b[0m_type\u001b[0m \u001b[0;34m=\u001b[0m \u001b[0;34m\"vessel\"\u001b[0m\u001b[0;34m\u001b[0m\u001b[0m\n\u001b[1;32m      8\u001b[0m         \u001b[0mtimestamp\u001b[0m \u001b[0;34m=\u001b[0m \u001b[0mint\u001b[0m\u001b[0;34m(\u001b[0m\u001b[0mrecord\u001b[0m\u001b[0;34m[\u001b[0m\u001b[0;36m1\u001b[0m\u001b[0;34m]\u001b[0m\u001b[0;34m)\u001b[0m\u001b[0;34m\u001b[0m\u001b[0m\n",
      "\u001b[0;31mKeyboardInterrupt\u001b[0m: "
     ]
    }
   ],
   "source": [
    "for file in os.listdir(\"/home/data/wayne_data/training-data/data/tracks\"):\n",
    "    if file.endswith(\".npz\"):\n",
    "        this_track = np.load(os.path.join(\"/home/data/wayne_data/training-data/data/tracks\", file))\n",
    "        result = track_format(this_track['x'])\n",
    "        start_time = 99999999999\n",
    "        end_time = 0\n",
    "        \n",
    "        with open('track_to_show/' + file[:-4] + '.csv', 'w+') as f:\n",
    "            fieldnames = result[0].keys()\n",
    "            writer = csv.DictWriter(f, fieldnames=fieldnames)\n",
    "            writer.writeheader()\n",
    "            for record in result:\n",
    "                if start_time > record['timestamp']:\n",
    "                    start_time = record['timestamp']\n",
    "                if end_time < record['timestamp']:\n",
    "                    end_time = record['timestamp']\n",
    "                writer.writerow(record)\n",
    "        print unix_time(start_time),unix_time(end_time), len(result)"
   ]
  },
  {
   "cell_type": "code",
   "execution_count": 181,
   "metadata": {},
   "outputs": [
    {
     "data": {
      "text/plain": [
       "dtype([('mmsi', '<f8'), ('timestamp', '<f8'), ('distance_from_shore', '<f8'), ('distance_from_port', '<f8'), ('speed', '<f8'), ('course', '<f8'), ('lat', '<f8'), ('lon', '<f8')])"
      ]
     },
     "execution_count": 181,
     "metadata": {},
     "output_type": "execute_result"
    }
   ],
   "source": [
    "this_track['x'].dtype"
   ]
  },
  {
   "cell_type": "code",
   "execution_count": 100,
   "metadata": {},
   "outputs": [],
   "source": [
    "#for index in range(1,200):\n",
    "#    value = datetime.datetime.fromtimestamp(track_sample['x'][index][1])\n",
    "#    print(value.strftime('%Y-%m-%d %H:%M:%S'))"
   ]
  },
  {
   "cell_type": "markdown",
   "metadata": {},
   "source": [
    "## Read Labeled Data"
   ]
  },
  {
   "cell_type": "code",
   "execution_count": 281,
   "metadata": {},
   "outputs": [
    {
     "data": {
      "text/plain": [
       "(146196,)"
      ]
     },
     "execution_count": 281,
     "metadata": {},
     "output_type": "execute_result"
    }
   ],
   "source": [
    "labeled_np = np.load('/home/data/wayne_data/training-data/data/labeled/kristina_ps_Purse_seines.measures.labels.npz')\n",
    "labeled_np['x'].shape"
   ]
  },
  {
   "cell_type": "code",
   "execution_count": 282,
   "metadata": {},
   "outputs": [],
   "source": [
    "!mkdir -p datasets"
   ]
  },
  {
   "cell_type": "code",
   "execution_count": 283,
   "metadata": {},
   "outputs": [],
   "source": [
    "labeled_df = pd.DataFrame(labeled_np['x'])"
   ]
  },
  {
   "cell_type": "code",
   "execution_count": 284,
   "metadata": {},
   "outputs": [],
   "source": [
    "fieldnames = ['course',\n",
    " 'distance_from_port',\n",
    " 'distance_from_shore',\n",
    " 'lat',\n",
    " 'lon',\n",
    " 'measure_cos_course',\n",
    " 'measure_count_10800',\n",
    " 'measure_count_1800',\n",
    " 'measure_count_21600',\n",
    " 'measure_count_3600',\n",
    " 'measure_count_43200',\n",
    " 'measure_count_86400',\n",
    " 'measure_course',\n",
    " 'measure_courseavg_10800',\n",
    " 'measure_courseavg_1800',\n",
    " 'measure_courseavg_21600',\n",
    " 'measure_courseavg_3600',\n",
    " 'measure_courseavg_43200',\n",
    " 'measure_courseavg_86400',\n",
    " 'measure_coursestddev_10800',\n",
    " 'measure_coursestddev_10800_log',\n",
    " 'measure_coursestddev_1800',\n",
    " 'measure_coursestddev_1800_log',\n",
    " 'measure_coursestddev_21600',\n",
    " 'measure_coursestddev_21600_log',\n",
    " 'measure_coursestddev_3600',\n",
    " 'measure_coursestddev_3600_log',\n",
    " 'measure_coursestddev_43200',\n",
    " 'measure_coursestddev_43200_log',\n",
    " 'measure_coursestddev_86400',\n",
    " 'measure_coursestddev_86400_log',\n",
    " 'measure_daylight',\n",
    " 'measure_daylightavg_10800',\n",
    " 'measure_daylightavg_1800',\n",
    " 'measure_daylightavg_21600',\n",
    " 'measure_daylightavg_3600',\n",
    " 'measure_daylightavg_43200',\n",
    " 'measure_daylightavg_86400',\n",
    " 'measure_distance_from_port',\n",
    " 'measure_latavg_10800',\n",
    " 'measure_latavg_1800',\n",
    " 'measure_latavg_21600',\n",
    " 'measure_latavg_3600',\n",
    " 'measure_latavg_43200',\n",
    " 'measure_latavg_86400',\n",
    " 'measure_lonavg_10800',\n",
    " 'measure_lonavg_1800',\n",
    " 'measure_lonavg_21600',\n",
    " 'measure_lonavg_3600',\n",
    " 'measure_lonavg_43200',\n",
    " 'measure_lonavg_86400',\n",
    " 'measure_pos_10800',\n",
    " 'measure_pos_1800',\n",
    " 'measure_pos_21600',\n",
    " 'measure_pos_3600',\n",
    " 'measure_pos_43200',\n",
    " 'measure_pos_86400',\n",
    " 'measure_sin_course',\n",
    " 'measure_speed',\n",
    " 'measure_speedavg_10800',\n",
    " 'measure_speedavg_1800',\n",
    " 'measure_speedavg_21600',\n",
    " 'measure_speedavg_3600',\n",
    " 'measure_speedavg_43200',\n",
    " 'measure_speedavg_86400',\n",
    " 'measure_speedstddev_10800',\n",
    " 'measure_speedstddev_10800_log',\n",
    " 'measure_speedstddev_1800',\n",
    " 'measure_speedstddev_1800_log',\n",
    " 'measure_speedstddev_21600',\n",
    " 'measure_speedstddev_21600_log',\n",
    " 'measure_speedstddev_3600',\n",
    " 'measure_speedstddev_3600_log',\n",
    " 'measure_speedstddev_43200',\n",
    " 'measure_speedstddev_43200_log',\n",
    " 'measure_speedstddev_86400',\n",
    " 'measure_speedstddev_86400_log',\n",
    " 'mmsi',\n",
    " 'speed',\n",
    " 'timestamp',\n",
    " 'y']"
   ]
  },
  {
   "cell_type": "code",
   "execution_count": 285,
   "metadata": {},
   "outputs": [
    {
     "data": {
      "text/plain": [
       "81"
      ]
     },
     "execution_count": 285,
     "metadata": {},
     "output_type": "execute_result"
    }
   ],
   "source": [
    "len(fieldnames)"
   ]
  },
  {
   "cell_type": "code",
   "execution_count": 286,
   "metadata": {},
   "outputs": [],
   "source": [
    "#fieldnames = list(labeled_df.columns)\n",
    "with open('./datasets/labeled.csv', 'w+') as f:\n",
    "    writer = csv.DictWriter(f, fieldnames=fieldnames)\n",
    "    for index, row in labeled_df.iterrows():\n",
    "        this_dict = row.to_dict()\n",
    "        y = this_dict.pop('is_fishing')\n",
    "        this_dict['y'] = y\n",
    "        writer.writerow(collections.OrderedDict(sorted(this_dict.items())))"
   ]
  },
  {
   "cell_type": "markdown",
   "metadata": {},
   "source": [
    "## Start to train"
   ]
  },
  {
   "cell_type": "code",
   "execution_count": 287,
   "metadata": {},
   "outputs": [],
   "source": [
    "from sklearn.svm import LinearSVC, SVC\n",
    "from sklearn.ensemble import RandomForestClassifier\n",
    "from sklearn.linear_model import LogisticRegression\n",
    "from sklearn import metrics\n",
    "from sklearn.model_selection import StratifiedKFold\n",
    "from sklearn.externals import joblib"
   ]
  },
  {
   "cell_type": "code",
   "execution_count": 288,
   "metadata": {},
   "outputs": [
    {
     "data": {
      "text/plain": [
       "146196"
      ]
     },
     "execution_count": 288,
     "metadata": {},
     "output_type": "execute_result"
    }
   ],
   "source": [
    "labeled_df.shape[0]"
   ]
  },
  {
   "cell_type": "code",
   "execution_count": 289,
   "metadata": {},
   "outputs": [],
   "source": [
    "X = np.zeros((labeled_df.shape[0], len(labeled_df.columns) - 1))\n",
    "y = np.zeros((labeled_df.shape[0]))"
   ]
  },
  {
   "cell_type": "code",
   "execution_count": 290,
   "metadata": {},
   "outputs": [],
   "source": [
    "for idx, row in labeled_df.iterrows():\n",
    "    if row.isnull().values.any():\n",
    "        continue\n",
    "    this_dict = row.to_dict()\n",
    "    is_fish = this_dict.pop('is_fishing')\n",
    "    X[idx,] = [this_dict[elemt] for elemt in this_dict]\n",
    "    y[idx] = is_fish"
   ]
  },
  {
   "cell_type": "code",
   "execution_count": null,
   "metadata": {},
   "outputs": [],
   "source": []
  },
  {
   "cell_type": "code",
   "execution_count": 291,
   "metadata": {},
   "outputs": [
    {
     "data": {
      "text/plain": [
       "\"\\nwith open('./datasets/labeled.csv', 'r') as f:\\n    reader = csv.reader(f, delimiter=',')\\n    for idx, row in enumerate(reader):\\n        record = row\\n        X[idx,] = [float(elemt) for elemt in row[:-1]]\\n        y[idx] = int(float(row[-1]))\\n\""
      ]
     },
     "execution_count": 291,
     "metadata": {},
     "output_type": "execute_result"
    }
   ],
   "source": [
    "'''\n",
    "with open('./datasets/labeled.csv', 'r') as f:\n",
    "    reader = csv.reader(f, delimiter=',')\n",
    "    for idx, row in enumerate(reader):\n",
    "        record = row\n",
    "        X[idx,] = [float(elemt) for elemt in row[:-1]]\n",
    "        y[idx] = int(float(row[-1]))\n",
    "'''"
   ]
  },
  {
   "cell_type": "code",
   "execution_count": 292,
   "metadata": {},
   "outputs": [],
   "source": [
    "model = LogisticRegression(class_weight=None)"
   ]
  },
  {
   "cell_type": "code",
   "execution_count": 293,
   "metadata": {},
   "outputs": [
    {
     "data": {
      "text/plain": [
       "LogisticRegression(C=1.0, class_weight=None, dual=False, fit_intercept=True,\n",
       "          intercept_scaling=1, max_iter=100, multi_class='ovr', n_jobs=1,\n",
       "          penalty='l2', random_state=None, solver='liblinear', tol=0.0001,\n",
       "          verbose=0, warm_start=False)"
      ]
     },
     "execution_count": 293,
     "metadata": {},
     "output_type": "execute_result"
    }
   ],
   "source": [
    "model.fit(X, y)"
   ]
  },
  {
   "cell_type": "code",
   "execution_count": 294,
   "metadata": {},
   "outputs": [
    {
     "name": "stdout",
     "output_type": "stream",
     "text": [
      "[ 0.  1.]\n"
     ]
    }
   ],
   "source": [
    "print(model.classes_)"
   ]
  },
  {
   "cell_type": "code",
   "execution_count": 295,
   "metadata": {},
   "outputs": [
    {
     "name": "stdout",
     "output_type": "stream",
     "text": [
      "accuracy:   0.960\n",
      "confusion matrix:\n",
      "[[140316      0]\n",
      " [  5880      0]]\n"
     ]
    }
   ],
   "source": [
    "pred = model.predict(X)\n",
    "\n",
    "score = metrics.accuracy_score(y, pred)\n",
    "print(\"accuracy:   %0.3f\" % score)\n",
    "\n",
    "print(\"confusion matrix:\")\n",
    "print(metrics.confusion_matrix(y, pred))"
   ]
  },
  {
   "cell_type": "markdown",
   "metadata": {},
   "source": [
    "## Try XGboost"
   ]
  },
  {
   "cell_type": "code",
   "execution_count": 296,
   "metadata": {},
   "outputs": [],
   "source": [
    "import xgboost as xgb"
   ]
  },
  {
   "cell_type": "code",
   "execution_count": 297,
   "metadata": {},
   "outputs": [],
   "source": [
    "gbm = xgb.XGBClassifier(max_depth=3, n_estimators=300, learning_rate=0.05).fit(X, y)\n",
    "predictions = gbm.predict(X)"
   ]
  },
  {
   "cell_type": "code",
   "execution_count": 299,
   "metadata": {},
   "outputs": [
    {
     "name": "stdout",
     "output_type": "stream",
     "text": [
      "accuracy:   0.995\n",
      "confusion matrix:\n",
      "[[140126    190]\n",
      " [   481   5399]]\n"
     ]
    }
   ],
   "source": [
    "score = metrics.accuracy_score(y, predictions)\n",
    "print(\"accuracy:   %0.3f\" % score)\n",
    "\n",
    "print(\"confusion matrix:\")\n",
    "print(metrics.confusion_matrix(y, predictions))"
   ]
  },
  {
   "cell_type": "code",
   "execution_count": null,
   "metadata": {},
   "outputs": [],
   "source": []
  },
  {
   "cell_type": "code",
   "execution_count": null,
   "metadata": {},
   "outputs": [],
   "source": []
  }
 ],
 "metadata": {
  "kernelspec": {
   "display_name": "wayne_py2709",
   "language": "python",
   "name": "wayne_py2709"
  },
  "language_info": {
   "codemirror_mode": {
    "name": "ipython",
    "version": 2
   },
   "file_extension": ".py",
   "mimetype": "text/x-python",
   "name": "python",
   "nbconvert_exporter": "python",
   "pygments_lexer": "ipython2",
   "version": "2.7.9"
  }
 },
 "nbformat": 4,
 "nbformat_minor": 2
}
