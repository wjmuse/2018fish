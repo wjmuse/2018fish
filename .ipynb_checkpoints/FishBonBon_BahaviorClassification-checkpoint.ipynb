{
 "cells": [
  {
   "cell_type": "code",
   "execution_count": 1,
   "metadata": {},
   "outputs": [],
   "source": [
    "import csv, os, sys, json, datetime, collections\n",
    "import numpy as np\n",
    "import pandas as pd"
   ]
  },
  {
   "cell_type": "markdown",
   "metadata": {},
   "source": [
    "## Import REPO library\n",
    "\n",
    " - https://github.com/GlobalFishingWatch/vessel-scoring\n",
    " - https://github.com/GlobalFishingWatch/training-data"
   ]
  },
  {
   "cell_type": "code",
   "execution_count": 2,
   "metadata": {},
   "outputs": [],
   "source": [
    "sys.path.append('../vessel-scoring/vessel_scoring/')\n",
    "sys.path.append('../vessel-scoring/')"
   ]
  },
  {
   "cell_type": "code",
   "execution_count": 3,
   "metadata": {},
   "outputs": [],
   "source": [
    "import vessel_scoring.models\n",
    "from vessel_scoring.models import train_model_on_data, load_data\n",
    "from vessel_scoring import data, utils\n",
    "import vessel_scoring.colspec\n",
    "import vessel_scoring"
   ]
  },
  {
   "cell_type": "code",
   "execution_count": 4,
   "metadata": {},
   "outputs": [],
   "source": [
    "def unix_time(timestamp):\n",
    "    value = datetime.datetime.fromtimestamp(timestamp)\n",
    "    return value.strftime('%Y-%m-%d %H:%M:%S')"
   ]
  },
  {
   "cell_type": "markdown",
   "metadata": {},
   "source": [
    "### Read Simulate Data"
   ]
  },
  {
   "cell_type": "code",
   "execution_count": 5,
   "metadata": {},
   "outputs": [
    {
     "name": "stdout",
     "output_type": "stream",
     "text": [
      "tag,timestamp,longitude,latitude,uuid,type\r\n",
      "outbound,1423076159,143.17084932128677,46.21757496612248,mmsi1,vessel\r\n",
      "outbound,1423076751,142.7117034443558,46.362305287494,mmsi1,vessel\r\n",
      "outbound,1423077484,142.60185236630696,46.10586137747794,mmsi1,vessel\r\n",
      "outbound,1423078530,143.03972213434633,46.12358680189176,mmsi1,vessel\r\n"
     ]
    }
   ],
   "source": [
    "!head -5 /net/account/pixuser/ryanchao2012/work/fishackathon/vessels_30.csv"
   ]
  },
  {
   "cell_type": "markdown",
   "metadata": {},
   "source": [
    "### Try Open Data\n",
    "\n",
    " - numpy savez_compressed format"
   ]
  },
  {
   "cell_type": "code",
   "execution_count": 6,
   "metadata": {},
   "outputs": [],
   "source": [
    "test_track = np.load('/home/data/wayne_data/training-data/data/tracks/272873281811002.npz')"
   ]
  },
  {
   "cell_type": "code",
   "execution_count": 7,
   "metadata": {},
   "outputs": [
    {
     "data": {
      "text/plain": [
       "numpy.ndarray"
      ]
     },
     "execution_count": 7,
     "metadata": {},
     "output_type": "execute_result"
    }
   ],
   "source": [
    "type(test_track['x'])"
   ]
  },
  {
   "cell_type": "code",
   "execution_count": 8,
   "metadata": {},
   "outputs": [
    {
     "data": {
      "text/plain": [
       "dtype([('mmsi', '<f8'), ('timestamp', '<f8'), ('distance_from_shore', '<f8'), ('distance_from_port', '<f8'), ('speed', '<f8'), ('course', '<f8'), ('lat', '<f8'), ('lon', '<f8')])"
      ]
     },
     "execution_count": 8,
     "metadata": {},
     "output_type": "execute_result"
    }
   ],
   "source": [
    "test_track['x'].dtype"
   ]
  },
  {
   "cell_type": "markdown",
   "metadata": {},
   "source": [
    "### Load DEMO Data"
   ]
  },
  {
   "cell_type": "code",
   "execution_count": 10,
   "metadata": {},
   "outputs": [],
   "source": [
    "path = '/net/account/pixuser/ryanchao2012/work/fishackathon/vessels_30.csv'"
   ]
  },
  {
   "cell_type": "code",
   "execution_count": 11,
   "metadata": {},
   "outputs": [],
   "source": [
    "with open(path, 'r') as f:\n",
    "    reader = csv.reader(f)\n",
    "    headers = reader.next()\n",
    "    #for row in reader:"
   ]
  },
  {
   "cell_type": "code",
   "execution_count": 12,
   "metadata": {},
   "outputs": [],
   "source": [
    "track_df = pd.read_csv(path)"
   ]
  },
  {
   "cell_type": "code",
   "execution_count": 13,
   "metadata": {},
   "outputs": [
    {
     "data": {
      "text/plain": [
       "tag           object\n",
       "timestamp      int64\n",
       "longitude    float64\n",
       "latitude     float64\n",
       "uuid          object\n",
       "type          object\n",
       "dtype: object"
      ]
     },
     "execution_count": 13,
     "metadata": {},
     "output_type": "execute_result"
    }
   ],
   "source": [
    "track_df.dtypes"
   ]
  },
  {
   "cell_type": "code",
   "execution_count": 14,
   "metadata": {},
   "outputs": [
    {
     "data": {
      "text/html": [
       "<div>\n",
       "<table border=\"1\" class=\"dataframe\">\n",
       "  <thead>\n",
       "    <tr style=\"text-align: right;\">\n",
       "      <th></th>\n",
       "      <th>tag</th>\n",
       "      <th>timestamp</th>\n",
       "      <th>longitude</th>\n",
       "      <th>latitude</th>\n",
       "      <th>uuid</th>\n",
       "      <th>type</th>\n",
       "    </tr>\n",
       "  </thead>\n",
       "  <tbody>\n",
       "    <tr>\n",
       "      <th>0</th>\n",
       "      <td>outbound</td>\n",
       "      <td>1423076159</td>\n",
       "      <td>143.170849</td>\n",
       "      <td>46.217575</td>\n",
       "      <td>mmsi1</td>\n",
       "      <td>vessel</td>\n",
       "    </tr>\n",
       "    <tr>\n",
       "      <th>1</th>\n",
       "      <td>outbound</td>\n",
       "      <td>1423076751</td>\n",
       "      <td>142.711703</td>\n",
       "      <td>46.362305</td>\n",
       "      <td>mmsi1</td>\n",
       "      <td>vessel</td>\n",
       "    </tr>\n",
       "    <tr>\n",
       "      <th>2</th>\n",
       "      <td>outbound</td>\n",
       "      <td>1423077484</td>\n",
       "      <td>142.601852</td>\n",
       "      <td>46.105861</td>\n",
       "      <td>mmsi1</td>\n",
       "      <td>vessel</td>\n",
       "    </tr>\n",
       "  </tbody>\n",
       "</table>\n",
       "</div>"
      ],
      "text/plain": [
       "        tag   timestamp   longitude   latitude   uuid    type\n",
       "0  outbound  1423076159  143.170849  46.217575  mmsi1  vessel\n",
       "1  outbound  1423076751  142.711703  46.362305  mmsi1  vessel\n",
       "2  outbound  1423077484  142.601852  46.105861  mmsi1  vessel"
      ]
     },
     "execution_count": 14,
     "metadata": {},
     "output_type": "execute_result"
    }
   ],
   "source": [
    "track_df[0:3]"
   ]
  },
  {
   "cell_type": "markdown",
   "metadata": {},
   "source": [
    "### Re-Format Data"
   ]
  },
  {
   "cell_type": "code",
   "execution_count": 15,
   "metadata": {},
   "outputs": [],
   "source": [
    "track_df.columns = ['tag', 'timestamp', 'lon', 'lat', 'uuid','type']"
   ]
  },
  {
   "cell_type": "code",
   "execution_count": 16,
   "metadata": {},
   "outputs": [],
   "source": [
    "track_df['distance_from_shore'] = 1.0\n",
    "track_df['distance_from_port'] = 1.0\n",
    "track_df['speed'] = 1.0\n",
    "track_df['course'] = 1.0\n",
    "track_df['mmsi'] = track_df.apply(lambda row: int(row.uuid[4:]), axis=1)"
   ]
  },
  {
   "cell_type": "code",
   "execution_count": 156,
   "metadata": {},
   "outputs": [
    {
     "data": {
      "text/plain": [
       "['tag',\n",
       " 'timestamp',\n",
       " 'lon',\n",
       " 'lat',\n",
       " 'uuid',\n",
       " 'type',\n",
       " 'distance_from_shore',\n",
       " 'distance_from_port',\n",
       " 'speed',\n",
       " 'course',\n",
       " 'mmsi']"
      ]
     },
     "execution_count": 156,
     "metadata": {},
     "output_type": "execute_result"
    }
   ],
   "source": [
    "list(track_df.columns)"
   ]
  },
  {
   "cell_type": "code",
   "execution_count": 18,
   "metadata": {},
   "outputs": [],
   "source": [
    "x = np.zeros(len(track_df), dtype=[('timestamp', \"<f8\"),\n",
    "                                   ('lon', \"<f8\"),\n",
    "                                   ('lat', \"<f8\"),\n",
    "                                   ('distance_from_shore', \"<f8\"),\n",
    "                                   ('distance_from_port', \"<f8\"),\n",
    "                                   ('speed', \"<f8\"),\n",
    "                                   ('course', \"<f8\"),\n",
    "                                   ('mmsi', \"<f8\")])"
   ]
  },
  {
   "cell_type": "code",
   "execution_count": 19,
   "metadata": {},
   "outputs": [],
   "source": [
    "for _col in ['timestamp','lon','lat','distance_from_shore','distance_from_port',\n",
    "            'speed','course','mmsi']: #track_df.columns:\n",
    "    x[_col] = track_df[_col]"
   ]
  },
  {
   "cell_type": "code",
   "execution_count": 23,
   "metadata": {},
   "outputs": [],
   "source": [
    "np.savez_compressed('qq_30.npz', x=x)"
   ]
  },
  {
   "cell_type": "markdown",
   "metadata": {},
   "source": [
    "## Training Model"
   ]
  },
  {
   "cell_type": "code",
   "execution_count": 24,
   "metadata": {},
   "outputs": [
    {
     "data": {
      "text/plain": [
       "(565866,)"
      ]
     },
     "execution_count": 24,
     "metadata": {},
     "output_type": "execute_result"
    }
   ],
   "source": [
    "labeled_np = np.load('/net/account/pixuser/wayne/work/vessel-scoring/datasets/qq_30.npz')\n",
    "labeled_np['x'].shape"
   ]
  },
  {
   "cell_type": "code",
   "execution_count": 25,
   "metadata": {},
   "outputs": [],
   "source": [
    "labeled_df = pd.DataFrame(labeled_np['x'])"
   ]
  },
  {
   "cell_type": "code",
   "execution_count": 162,
   "metadata": {},
   "outputs": [
    {
     "data": {
      "text/plain": [
       "['measure_coursestddev_1800_log',\n",
       " 'measure_courseavg_43200',\n",
       " 'course',\n",
       " 'measure_sin_course',\n",
       " 'measure_daylightavg_900',\n",
       " 'measure_speedstddev_10800',\n",
       " 'speed',\n",
       " 'measure_pos_86400',\n",
       " 'measure_daylightavg_43200',\n",
       " 'measure_latavg_86400',\n",
       " 'distance_from_port',\n",
       " 'measure_lonavg_3600',\n",
       " 'measure_lonavg_1800',\n",
       " 'measure_courseavg_10800',\n",
       " 'distance_from_shore',\n",
       " 'measure_courseavg_1800',\n",
       " 'measure_speedstddev_86400',\n",
       " 'timestamp',\n",
       " 'measure_coursestddev_86400',\n",
       " 'measure_speedstddev_21600',\n",
       " 'measure_daylightavg_3600',\n",
       " 'measure_courseavg_86400',\n",
       " 'measure_speedstddev_3600_log',\n",
       " 'measure_coursestddev_900',\n",
       " 'measure_coursestddev_10800',\n",
       " 'measure_coursestddev_43200',\n",
       " 'measure_daylightavg_1800',\n",
       " 'measure_coursestddev_3600_log',\n",
       " 'measure_lonavg_900',\n",
       " 'measure_distance_from_port',\n",
       " 'measure_coursestddev_10800_log',\n",
       " 'measure_coursestddev_900_log',\n",
       " 'measure_latavg_21600',\n",
       " 'mmsi',\n",
       " 'measure_course',\n",
       " 'measure_lonavg_21600',\n",
       " 'measure_daylight',\n",
       " 'measure_pos_10800',\n",
       " 'measure_count_10800',\n",
       " 'measure_coursestddev_1800',\n",
       " 'measure_speedstddev_43200',\n",
       " 'measure_daylightavg_21600',\n",
       " 'measure_courseavg_21600',\n",
       " 'measure_speedavg_86400',\n",
       " 'measure_pos_900',\n",
       " 'measure_coursestddev_21600',\n",
       " 'measure_count_1800',\n",
       " 'measure_speed',\n",
       " 'measure_latavg_43200',\n",
       " 'measure_latavg_10800',\n",
       " 'measure_speedavg_1800',\n",
       " 'measure_count_3600',\n",
       " 'lon',\n",
       " 'measure_speedavg_10800',\n",
       " 'measure_speedavg_900',\n",
       " 'measure_daylightavg_10800',\n",
       " 'measure_count_21600',\n",
       " 'measure_courseavg_900',\n",
       " 'measure_speedstddev_3600',\n",
       " 'measure_pos_43200',\n",
       " 'measure_latavg_3600',\n",
       " 'measure_coursestddev_21600_log',\n",
       " 'measure_speedavg_43200',\n",
       " 'measure_courseavg_3600',\n",
       " 'measure_latavg_900',\n",
       " 'measure_daylightavg_86400',\n",
       " 'measure_count_43200',\n",
       " 'measure_coursestddev_3600',\n",
       " 'measure_lonavg_86400',\n",
       " 'measure_lonavg_43200',\n",
       " 'measure_cos_course',\n",
       " 'measure_pos_3600',\n",
       " 'measure_speedstddev_900',\n",
       " 'measure_speedstddev_21600_log',\n",
       " 'measure_count_86400',\n",
       " 'measure_pos_1800',\n",
       " 'measure_coursestddev_86400_log',\n",
       " 'measure_speedavg_3600',\n",
       " 'measure_speedstddev_1800',\n",
       " 'measure_coursestddev_43200_log',\n",
       " 'measure_latavg_1800',\n",
       " 'measure_speedavg_21600',\n",
       " 'measure_count_900',\n",
       " 'measure_speedstddev_86400_log',\n",
       " 'measure_lonavg_10800',\n",
       " 'measure_speedstddev_10800_log',\n",
       " 'lat',\n",
       " 'measure_speedstddev_43200_log',\n",
       " 'measure_pos_21600',\n",
       " 'measure_speedstddev_900_log',\n",
       " 'measure_speedstddev_1800_log']"
      ]
     },
     "execution_count": 162,
     "metadata": {},
     "output_type": "execute_result"
    }
   ],
   "source": [
    "list(labeled_df.columns)"
   ]
  },
  {
   "cell_type": "code",
   "execution_count": 166,
   "metadata": {},
   "outputs": [],
   "source": [
    "labeled_df = labeled_df.drop(['mmsi',\n",
    "                'measure_lonavg_3600','measure_lonavg_1800',\n",
    "                'measure_lonavg_900','measure_lonavg_21600',\n",
    "                'measure_lonavg_86400','measure_lonavg_43200',\n",
    "                'measure_lonavg_10800',\n",
    "                'measure_pos_3600','measure_pos_1800',\n",
    "                'measure_pos_900','measure_pos_21600',\n",
    "                'measure_pos_86400','measure_pos_43200',\n",
    "                'measure_pos_10800',\n",
    "                'measure_latavg_3600','measure_latavg_1800',\n",
    "                'measure_latavg_900','measure_latavg_21600',\n",
    "                'measure_latavg_86400','measure_latavg_43200',\n",
    "                'measure_latavg_10800'], axis=1)"
   ]
  },
  {
   "cell_type": "code",
   "execution_count": 167,
   "metadata": {},
   "outputs": [],
   "source": [
    "fieldnames = list(labeled_df.columns)"
   ]
  },
  {
   "cell_type": "code",
   "execution_count": 168,
   "metadata": {},
   "outputs": [
    {
     "data": {
      "text/plain": [
       "69"
      ]
     },
     "execution_count": 168,
     "metadata": {},
     "output_type": "execute_result"
    }
   ],
   "source": [
    "len(fieldnames)"
   ]
  },
  {
   "cell_type": "code",
   "execution_count": 169,
   "metadata": {},
   "outputs": [],
   "source": [
    "X = np.zeros((x.shape[0], len(labeled_df.columns)))\n",
    "y = np.zeros((x.shape[0]))"
   ]
  },
  {
   "cell_type": "code",
   "execution_count": 170,
   "metadata": {},
   "outputs": [
    {
     "data": {
      "text/plain": [
       "69"
      ]
     },
     "execution_count": 170,
     "metadata": {},
     "output_type": "execute_result"
    }
   ],
   "source": [
    "len(labeled_df.columns)"
   ]
  },
  {
   "cell_type": "code",
   "execution_count": 171,
   "metadata": {},
   "outputs": [],
   "source": [
    "tag_dict = {}\n",
    "for idx, tag in enumerate(set(list(track_df['tag']))):\n",
    "    tag_dict[tag] = idx"
   ]
  },
  {
   "cell_type": "code",
   "execution_count": 172,
   "metadata": {},
   "outputs": [],
   "source": [
    "for idx, row in labeled_df.iterrows():\n",
    "    if row.isnull().values.any():\n",
    "        continue\n",
    "    this_dict = row.to_dict()\n",
    "    is_fish = tag_dict[track_df['tag'][idx]]\n",
    "    X[idx,] = [this_dict[elemt] for elemt in this_dict]\n",
    "    y[idx] = is_fish"
   ]
  },
  {
   "cell_type": "code",
   "execution_count": 173,
   "metadata": {},
   "outputs": [
    {
     "data": {
      "text/plain": [
       "69"
      ]
     },
     "execution_count": 173,
     "metadata": {},
     "output_type": "execute_result"
    }
   ],
   "source": [
    "len(X[0])"
   ]
  },
  {
   "cell_type": "code",
   "execution_count": 174,
   "metadata": {},
   "outputs": [
    {
     "data": {
      "text/plain": [
       "{'fishing', 'inbound', 'outbound', 'trawling'}"
      ]
     },
     "execution_count": 174,
     "metadata": {},
     "output_type": "execute_result"
    }
   ],
   "source": [
    "set(list(track_df['tag']))"
   ]
  },
  {
   "cell_type": "code",
   "execution_count": 175,
   "metadata": {},
   "outputs": [],
   "source": [
    "import xgboost as xgb\n",
    "from sklearn.svm import LinearSVC, SVC\n",
    "from sklearn.ensemble import RandomForestClassifier\n",
    "from sklearn.linear_model import LogisticRegression\n",
    "from sklearn import metrics\n",
    "from sklearn.model_selection import StratifiedKFold\n",
    "from sklearn.externals import joblib\n",
    "from sklearn.model_selection import cross_val_score\n",
    "from sklearn.metrics import roc_curve, auc\n",
    "from sklearn.preprocessing import label_binarize\n",
    "from scipy import interp\n",
    "import matplotlib.pyplot as plt\n",
    "from itertools import cycle\n"
   ]
  },
  {
   "cell_type": "code",
   "execution_count": 176,
   "metadata": {},
   "outputs": [],
   "source": [
    "gbm = xgb.XGBClassifier(max_depth=1, n_estimators=1, learning_rate=0.001).fit(X, y)\n",
    "predictions = gbm.predict(X)"
   ]
  },
  {
   "cell_type": "code",
   "execution_count": 177,
   "metadata": {},
   "outputs": [
    {
     "data": {
      "text/plain": [
       "{0.0, 1.0, 2.0, 3.0}"
      ]
     },
     "execution_count": 177,
     "metadata": {},
     "output_type": "execute_result"
    }
   ],
   "source": [
    "set(list(y))"
   ]
  },
  {
   "cell_type": "code",
   "execution_count": 178,
   "metadata": {},
   "outputs": [
    {
     "name": "stdout",
     "output_type": "stream",
     "text": [
      "accuracy:   0.984\n",
      "confusion matrix:\n",
      "[[     0      0      0    461]\n",
      " [     0   1273      2   8218]\n",
      " [     0     18    140    281]\n",
      " [     0    262      0 555211]]\n"
     ]
    }
   ],
   "source": [
    "score = metrics.accuracy_score(y, predictions)\n",
    "print(\"accuracy:   %0.3f\" % score)\n",
    "\n",
    "print(\"confusion matrix:\")\n",
    "print(metrics.confusion_matrix(y, predictions))"
   ]
  },
  {
   "cell_type": "code",
   "execution_count": 179,
   "metadata": {},
   "outputs": [],
   "source": [
    "result = cross_val_score(gbm, X, y, \n",
    "                         cv = StratifiedKFold(n_splits=3, shuffle=True, random_state=123))"
   ]
  },
  {
   "cell_type": "code",
   "execution_count": 180,
   "metadata": {},
   "outputs": [],
   "source": [
    "predictions_proba = gbm.predict_proba(X)"
   ]
  },
  {
   "cell_type": "code",
   "execution_count": 181,
   "metadata": {},
   "outputs": [
    {
     "data": {
      "text/plain": [
       "{0.0, 1.0, 2.0, 3.0}"
      ]
     },
     "execution_count": 181,
     "metadata": {},
     "output_type": "execute_result"
    }
   ],
   "source": [
    "set(list(y))"
   ]
  },
  {
   "cell_type": "code",
   "execution_count": 182,
   "metadata": {},
   "outputs": [],
   "source": [
    "y_onehot = label_binarize(y, classes=[0, 1, 2, 3])"
   ]
  },
  {
   "cell_type": "code",
   "execution_count": 183,
   "metadata": {},
   "outputs": [
    {
     "data": {
      "text/plain": [
       "(array([ 0.        ,  0.0027467 ,  0.00299785,  0.99849488,  0.99951362,  1.        ]),\n",
       " array([ 0.        ,  0.        ,  0.        ,  0.10412148,  1.        ,  1.        ]),\n",
       " array([ 1.45750654,  0.45750657,  0.32500869,  0.15141241,  0.13634995,\n",
       "         0.11130152], dtype=float32))"
      ]
     },
     "execution_count": 183,
     "metadata": {},
     "output_type": "execute_result"
    }
   ],
   "source": [
    "roc_curve(y_onehot[:,0], predictions_proba[:,1])"
   ]
  },
  {
   "cell_type": "markdown",
   "metadata": {},
   "source": [
    "### Compute ROC curve and ROC area for each class"
   ]
  },
  {
   "cell_type": "code",
   "execution_count": 184,
   "metadata": {},
   "outputs": [],
   "source": [
    "n_classes = y_onehot.shape[1]"
   ]
  },
  {
   "cell_type": "code",
   "execution_count": 185,
   "metadata": {},
   "outputs": [],
   "source": [
    "fpr = dict()\n",
    "tpr = dict()\n",
    "roc_auc = dict()\n",
    "for i in range(n_classes):\n",
    "    fpr[i], tpr[i], _ = roc_curve(y_onehot[:, i], predictions_proba[:, i])\n",
    "    roc_auc[i] = auc(fpr[i], tpr[i])\n",
    "    \n",
    "# Compute micro-average ROC curve and ROC area\n",
    "fpr[\"micro\"], tpr[\"micro\"], _ = roc_curve(y_onehot.ravel(), predictions_proba.ravel())\n",
    "roc_auc[\"micro\"] = auc(fpr[\"micro\"], tpr[\"micro\"])"
   ]
  },
  {
   "cell_type": "code",
   "execution_count": 186,
   "metadata": {},
   "outputs": [],
   "source": [
    "all_fpr = np.unique(np.concatenate([fpr[i] for i in range(n_classes)]))"
   ]
  },
  {
   "cell_type": "code",
   "execution_count": 187,
   "metadata": {},
   "outputs": [
    {
     "data": {
      "image/png": "[encoded data removed]",
      "text/plain": [
       "<matplotlib.figure.Figure at 0x7f1205374590>"
      ]
     },
     "metadata": {},
     "output_type": "display_data"
    }
   ],
   "source": [
    "# Then interpolate all ROC curves at this points\n",
    "mean_tpr = np.zeros_like(all_fpr)\n",
    "lw = 2\n",
    "for i in range(n_classes):\n",
    "    mean_tpr += interp(all_fpr, fpr[i], tpr[i])\n",
    "\n",
    "# Finally average it and compute AUC\n",
    "mean_tpr /= n_classes\n",
    "\n",
    "fpr[\"macro\"] = all_fpr\n",
    "tpr[\"macro\"] = mean_tpr\n",
    "roc_auc[\"macro\"] = auc(fpr[\"macro\"], tpr[\"macro\"])\n",
    "\n",
    "# Plot all ROC curves\n",
    "#plt.figure()\n",
    "#plt.plot(fpr[\"micro\"], tpr[\"micro\"],\n",
    "#         label='micro-average ROC curve (area = {0:0.2f})'\n",
    "#               ''.format(roc_auc[\"micro\"]),\n",
    "#         color='deeppink', linestyle=':', linewidth=4)\n",
    "\n",
    "#plt.plot(fpr[\"macro\"], tpr[\"macro\"],\n",
    "#         label='macro-average ROC curve (area = {0:0.2f})'\n",
    "#               ''.format(roc_auc[\"macro\"]),\n",
    "#         color='navy', linestyle=':', linewidth=4)\n",
    "\n",
    "LABEL_CLASS = ['inbound','trawling','outbound','fishing']\n",
    "\n",
    "colors = cycle(['aqua', 'darkorange', 'cornflowerblue'])\n",
    "for i, color in zip(range(n_classes), colors):\n",
    "    plt.plot(fpr[i], tpr[i], color=color, lw=lw,\n",
    "             label='Class {0} (area = {1:0.2f})'\n",
    "             ''.format(LABEL_CLASS[i], roc_auc[i]))\n",
    "\n",
    "plt.plot([0, 1], [0, 1], 'k--', lw=lw)\n",
    "plt.xlim([0.0, 1.0])\n",
    "plt.ylim([0.0, 1.05])\n",
    "plt.xlabel('False Positive Rate')\n",
    "plt.ylabel('True Positive Rate')\n",
    "plt.title('ROC Curve For Fish Behavior Recognition')\n",
    "plt.legend(loc=\"lower right\")\n",
    "plt.show()"
   ]
  },
  {
   "cell_type": "code",
   "execution_count": 60,
   "metadata": {},
   "outputs": [
    {
     "name": "stdout",
     "output_type": "stream",
     "text": [
      "accuracy:   1.000\n",
      "confusion matrix:\n",
      "[[   461      0      0      0]\n",
      " [     0   9493      0      0]\n",
      " [     0      0    439      0]\n",
      " [     0      0      0 555473]]\n"
     ]
    }
   ],
   "source": [
    "score = metrics.accuracy_score(y, predictions)\n",
    "print(\"accuracy:   %0.3f\" % score)\n",
    "\n",
    "print(\"confusion matrix:\")\n",
    "print(metrics.confusion_matrix(y, predictions))"
   ]
  },
  {
   "cell_type": "code",
   "execution_count": null,
   "metadata": {},
   "outputs": [],
   "source": []
  }
 ],
 "metadata": {
  "kernelspec": {
   "display_name": "wayne_py2709",
   "language": "python",
   "name": "wayne_py2709"
  },
  "language_info": {
   "codemirror_mode": {
    "name": "ipython",
    "version": 2
   },
   "file_extension": ".py",
   "mimetype": "text/x-python",
   "name": "python",
   "nbconvert_exporter": "python",
   "pygments_lexer": "ipython2",
   "version": "2.7.9"
  }
 },
 "nbformat": 4,
 "nbformat_minor": 2
}
